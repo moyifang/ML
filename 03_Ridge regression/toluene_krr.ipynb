{
 "cells": [
  {
   "cell_type": "code",
   "execution_count": 7,
   "id": "27ea45e5",
   "metadata": {},
   "outputs": [
    {
     "name": "stdout",
     "output_type": "stream",
     "text": [
      "(22140, 1) (22140, 15, 3)\n"
     ]
    }
   ],
   "source": [
    "import numpy as np\n",
    "\n",
    "data = np.load('toluene.npz')\n",
    "   \n",
    "E = data['E'] \n",
    "R = data['R']\n",
    "\n",
    "E -= E.min()\n",
    "\n",
    "print(E.shape, R.shape)"
   ]
  },
  {
   "cell_type": "code",
   "execution_count": 8,
   "id": "467f63d5",
   "metadata": {},
   "outputs": [
    {
     "name": "stdout",
     "output_type": "stream",
     "text": [
      "(22140, 105)\n"
     ]
    }
   ],
   "source": [
    "from scipy.spatial.distance import pdist\n",
    "\n",
    "D = np.array([1./pdist(r) for r in R])\n",
    "\n",
    "print(D.shape)"
   ]
  },
  {
   "cell_type": "code",
   "execution_count": 9,
   "id": "fe840540",
   "metadata": {},
   "outputs": [],
   "source": [
    "from sklearn.model_selection import train_test_split\n",
    "\n",
    "X_train, X_test, y_train, y_test = train_test_split(D, E, train_size=1000, random_state=0)"
   ]
  },
  {
   "cell_type": "code",
   "execution_count": 10,
   "id": "f6dc7437",
   "metadata": {},
   "outputs": [
    {
     "name": "stdout",
     "output_type": "stream",
     "text": [
      "Fitting 5 folds for each of 7000 candidates, totalling 35000 fits\n",
      "Best: alpha = 1e-12, gamma = 0.005008407989848212\n"
     ]
    }
   ],
   "source": [
    "from krr import KRR\n",
    "\n",
    "krr = KRR()\n",
    "krr.train(X_train, y_train)\n",
    "\n",
    "print('Best: alpha = {}, gamma = {}'.format(krr.best_params_['alpha'], krr.best_params_['gamma']))"
   ]
  },
  {
   "cell_type": "code",
   "execution_count": 11,
   "id": "08ca3280",
   "metadata": {},
   "outputs": [],
   "source": [
    "y_train_predicted = krr.predict(X_train)\n",
    "y_test_predicted = krr.predict(X_test)"
   ]
  },
  {
   "cell_type": "code",
   "execution_count": 12,
   "id": "838ada85",
   "metadata": {},
   "outputs": [],
   "source": [
    "mae = lambda X, Y: np.mean(np.absolute((X - Y)))\n",
    "rmse = lambda X, Y: np.sqrt(np.mean(np.square((X - Y))))"
   ]
  },
  {
   "cell_type": "code",
   "execution_count": 13,
   "id": "ab2949d7",
   "metadata": {},
   "outputs": [
    {
     "name": "stdout",
     "output_type": "stream",
     "text": [
      "Train: MAE = 0.001 kcal/mol, RMSE = 0.001 kcal/mol\n",
      "Tset: MAE = 0.620 kcal/mol, RMSE = 0.803 kcal/mol\n"
     ]
    }
   ],
   "source": [
    "train_mae = mae(y_train_predicted, y_train)\n",
    "train_rmse = rmse(y_train_predicted, y_train)\n",
    "test_mae = mae(y_test_predicted, y_test)\n",
    "test_rmse = rmse(y_test_predicted, y_test)\n",
    "\n",
    "print('Train: MAE = {:.3f} kcal/mol, RMSE = {:.3f} kcal/mol'. format(train_mae, train_rmse))\n",
    "print('Tset: MAE = {:.3f} kcal/mol, RMSE = {:.3f} kcal/mol'. format(test_mae, test_rmse))"
   ]
  },
  {
   "cell_type": "code",
   "execution_count": 14,
   "id": "0377956e",
   "metadata": {},
   "outputs": [
    {
     "data": {
      "image/png": "[encoded data removed]",
      "text/plain": [
       "<Figure size 432x288 with 1 Axes>"
      ]
     },
     "metadata": {
      "needs_background": "light"
     },
     "output_type": "display_data"
    }
   ],
   "source": [
    "from matplotlib import pyplot as plt\n",
    " \n",
    "plt.scatter(y_train, y_train_predicted, marker='.', color='green', zorder=2)\n",
    "plt.scatter(y_test, y_test_predicted, marker='.', color='blue', zorder=1)\n",
    "plt.title('MAE = {:.3f} kcal/mol, RMSE = {:.3f} kcal/mol'.format(test_mae, test_rmse))\n",
    "plt.savefig('krr.png', dpi=600)\n",
    "plt.show()"
   ]
  },
  {
   "cell_type": "code",
   "execution_count": null,
   "id": "c4c7c197",
   "metadata": {},
   "outputs": [],
   "source": [
    "from sklearn.model_selection import GridSearchCV\n",
    "from sklearn import linear_model\n",
    "\n",
    "alpha=np.logspace(-12, 0, 13)\n",
    "clf = GridSearchCV(linear_model.Ridge(alpha=1), cv=5, param_grid={\"alpha\": alpha}, \n",
    "                   verbose=1, n_jobs=-1, scoring=\"neg_mean_squared_error\")\n",
    "\n",
    "clf.fit(X_train, y_train)\n",
    "\n",
    "print('Best alpha: {:}'.format(clf.best_params_['alpha']))\n",
    "\n",
    "y_train_predicted_clf = clf.predict(X_train)\n",
    "y_test_predicted_clf = clf.predict(X_test)\n",
    "\n",
    "train_mae_clf = mae(y_train_predicted_clf, y_train)\n",
    "train_rmse_clf = rmse(y_train_predicted_clf, y_train)\n",
    "test_mae_clf = mae(y_test_predicted_clf, y_test)\n",
    "test_rmse_clf = rmse(y_test_predicted_clf, y_test)\n",
    "\n",
    "print('Train: MAE = {:.3f} kcal/mol, RMSE = {:.3f} kcal/mol'. format(train_mae_clf, train_rmse_clf))\n",
    "print('Tset: MAE = {:.3f} kcal/mol, RMSE = {:.3f} kcal/mol'. format(test_mae_clf, test_rmse_clf))\n",
    "\n",
    "plt.scatter(y_train, y_train_predicted_clf, marker='.', color='green', zorder=2)\n",
    "plt.scatter(y_test, y_test_predicted_clf, marker='.', color='blue', zorder=1)\n",
    "plt.title('MAE = {:.3f} kcal/mol, RMSE = {:.3f} kcal/mol'.format(test_mae_clf, test_rmse_clf))\n",
    "plt.savefig('rr.png', dpi=600)\n",
    "plt.show()"
   ]
  },
  {
   "cell_type": "code",
   "execution_count": null,
   "id": "b13b5367",
   "metadata": {
    "pycharm": {
     "name": "#%%\n"
    }
   },
   "outputs": [],
   "source": []
  }
 ],
 "metadata": {
  "kernelspec": {
   "display_name": "Python 3 (ipykernel)",
   "language": "python",
   "name": "python3"
  },
  "language_info": {
   "codemirror_mode": {
    "name": "ipython",
    "version": 3
   },
   "file_extension": ".py",
   "mimetype": "text/x-python",
   "name": "python",
   "nbconvert_exporter": "python",
   "pygments_lexer": "ipython3",
   "version": "3.9.7"
  }
 },
 "nbformat": 4,
 "nbformat_minor": 5
}
