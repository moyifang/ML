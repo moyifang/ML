{
 "cells": [
  {
   "cell_type": "code",
   "execution_count": 1,
   "id": "fc1a6e4d",
   "metadata": {},
   "outputs": [
    {
     "name": "stdout",
     "output_type": "stream",
     "text": [
      "EAT\n",
      "S\n",
      "xyz\n",
      "Z\n"
     ]
    }
   ],
   "source": [
    "import numpy as np\n",
    "\n",
    "# Loading the dataset\n",
    "dataset = np.load('qm7x_eq.npz', allow_pickle=True)\n",
    "\n",
    "# What is inside?\n",
    "for f in dataset.files:\n",
    "    print(f)"
   ]
  },
  {
   "cell_type": "code",
   "execution_count": 2,
   "id": "96ca8cf2",
   "metadata": {},
   "outputs": [
    {
     "name": "stdout",
     "output_type": "stream",
     "text": [
      "The number of molecules in the dataset is 41537.\n"
     ]
    }
   ],
   "source": [
    "# Importing data\n",
    "EAT = dataset['EAT'] # atomization energy\n",
    "xyz = dataset['xyz'] # Cartesian coordinates\n",
    "Z = dataset['Z'] # atomic indexes\n"
   ]
  },
  {
   "cell_type": "code",
   "execution_count": null,
   "id": "37d13350",
   "metadata": {},
   "outputs": [],
   "source": [
    "\n",
    "n_molecules = len(xyz)\n",
    "print('The number of molecules in the dataset is {:d}.'.format(n_molecules))"
   ]
  },
  {
   "cell_type": "code",
   "execution_count": 3,
   "id": "bc2e3efb",
   "metadata": {},
   "outputs": [
    {
     "name": "stderr",
     "output_type": "stream",
     "text": [
      "100%|█████████████████████████████████████████████████████████████████████████| 41537/41537 [00:00<00:00, 162506.63it/s]\n"
     ]
    }
   ],
   "source": [
    "from tqdm import tqdm\n",
    "from scipy.spatial.distance import pdist\n",
    "\n",
    "# Descriptor\n",
    "def descriptor(R):\n",
    "    \n",
    "    nconfig = len(R)\n",
    "    D = []\n",
    "    for i in tqdm(range(nconfig)):\n",
    "        D.append(1./pdist(R[i]))\n",
    "    \n",
    "    return D\n",
    "\n",
    "d = descriptor(xyz)\n",
    "\n",
    "# Making all descriptor entries of the same size\n",
    "max_size = np.max([len(_) for _ in d])\n",
    "nconfig = len(d)\n",
    "D = np.zeros((nconfig, max_size))\n",
    "\n",
    "for i in range(nconfig):\n",
    "    size = len(d[i])\n",
    "    D[i, :size] = d[i]"
   ]
  },
  {
   "cell_type": "code",
   "execution_count": 4,
   "id": "038159a0",
   "metadata": {},
   "outputs": [
    {
     "data": {
      "image/png": "[encoded data removed]",
      "text/plain": [
       "<Figure size 432x288 with 1 Axes>"
      ]
     },
     "metadata": {
      "needs_background": "light"
     },
     "output_type": "display_data"
    }
   ],
   "source": [
    "from sklearn import linear_model\n",
    "import matplotlib.pyplot as plt\n",
    "\n",
    "# ridge regression\n",
    "reg = linear_model.Ridge(alpha=1e-8)\n",
    "reg.fit(D, EAT)\n",
    "\n",
    "rmse = np.sqrt(np.square(EAT - reg.predict(D)).mean())\n",
    "plt.title('RMSE: {:.3f} kcal/mol'.format(rmse))\n",
    "plt.scatter(EAT, reg.predict(D), marker='.', color='blue')\n",
    "plt.xlabel('True')\n",
    "plt.ylabel('Predicted')\n",
    "plt.show()"
   ]
  },
  {
   "cell_type": "code",
   "execution_count": 5,
   "id": "caada263",
   "metadata": {},
   "outputs": [
    {
     "name": "stderr",
     "output_type": "stream",
     "text": [
      "100%|█████████████████████████████████████████████████████████████████████████| 41537/41537 [00:00<00:00, 147789.59it/s]\n"
     ]
    },
    {
     "data": {
      "image/png": "[encoded data removed]",
      "text/plain": [
       "<Figure size 432x288 with 1 Axes>"
      ]
     },
     "metadata": {
      "needs_background": "light"
     },
     "output_type": "display_data"
    }
   ],
   "source": [
    "import numpy as np\n",
    "from tqdm import tqdm\n",
    "from scipy.spatial.distance import pdist\n",
    "from sklearn import linear_model\n",
    "import matplotlib.pyplot as plt\n",
    "\n",
    "# Loading the dataset\n",
    "dataset = np.load('qm7x_eq.npz', allow_pickle=True)\n",
    "\n",
    "# Importing data\n",
    "EAT = dataset['EAT'] # atomization energy\n",
    "xyz = dataset['xyz'] # Cartesian coordinates\n",
    "Z = dataset['Z'] # atomic indexes\n",
    "\n",
    "# Descriptor\n",
    "def descriptor(R):\n",
    "    \n",
    "    nconfig = len(R)\n",
    "    D = []\n",
    "    for i in tqdm(range(nconfig)):\n",
    "        D.append(1./pdist(R[i]))\n",
    "    \n",
    "    return D\n",
    "\n",
    "d = descriptor(xyz)\n",
    "\n",
    "# Making all descriptor entries of the same size\n",
    "max_size = np.max([len(_) for _ in d])\n",
    "nconfig = len(d)\n",
    "D = np.zeros((nconfig, max_size))\n",
    "\n",
    "for i in range(nconfig):\n",
    "    size = len(d[i])\n",
    "    D[i, :size] = d[i]\n",
    "    \n",
    "\n",
    "# ridge regression\n",
    "reg = linear_model.Ridge(alpha=1e-8)\n",
    "reg.fit(D, EAT)\n",
    "\n",
    "rmse = np.sqrt(np.square(EAT - reg.predict(D)).mean())\n",
    "plt.title('RMSE: {:.3f} kcal/mol'.format(rmse))\n",
    "plt.scatter(EAT, reg.predict(D), marker='.', color='blue')\n",
    "plt.xlabel('True')\n",
    "plt.ylabel('Predicted')\n",
    "plt.show()"
   ]
  }
 ],
 "metadata": {
  "kernelspec": {
   "display_name": "Python 3 (ipykernel)",
   "language": "python",
   "name": "python3"
  },
  "language_info": {
   "codemirror_mode": {
    "name": "ipython",
    "version": 3
   },
   "file_extension": ".py",
   "mimetype": "text/x-python",
   "name": "python",
   "nbconvert_exporter": "python",
   "pygments_lexer": "ipython3",
   "version": "3.9.7"
  }
 },
 "nbformat": 4,
 "nbformat_minor": 5
}
