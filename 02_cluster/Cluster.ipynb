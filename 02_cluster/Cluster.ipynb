{
 "cells": [
  {
   "cell_type": "code",
   "execution_count": 3,
   "id": "99b24dee",
   "metadata": {},
   "outputs": [],
   "source": [
    "import numpy as np\n",
    "import pandas as pd\n",
    "import matplotlib.pyplot as plt\n",
    "from io import StringIO\n",
    "from urllib import request\n",
    "\n",
    "from sklearn import cluster, datasets, mixture\n",
    "from sklearn.neighbors import kneighbors_graph\n",
    "from sklearn.preprocessing import StandardScaler\n",
    "from sklearn import preprocessing"
   ]
  },
  {
   "cell_type": "code",
   "execution_count": 27,
   "id": "f3a2367b",
   "metadata": {},
   "outputs": [
    {
     "data": {
      "text/html": [
       "<div>\n",
       "<style scoped>\n",
       "    .dataframe tbody tr th:only-of-type {\n",
       "        vertical-align: middle;\n",
       "    }\n",
       "\n",
       "    .dataframe tbody tr th {\n",
       "        vertical-align: top;\n",
       "    }\n",
       "\n",
       "    .dataframe thead th {\n",
       "        text-align: right;\n",
       "    }\n",
       "</style>\n",
       "<table border=\"1\" class=\"dataframe\">\n",
       "  <thead>\n",
       "    <tr style=\"text-align: right;\">\n",
       "      <th></th>\n",
       "      <th>Input Side Accelerometer</th>\n",
       "      <th>Output Side Accelerometer</th>\n",
       "      <th>Tachometer Reading</th>\n",
       "    </tr>\n",
       "  </thead>\n",
       "  <tbody>\n",
       "    <tr>\n",
       "      <th>0</th>\n",
       "      <td>0.012054</td>\n",
       "      <td>0.003204</td>\n",
       "      <td>4.9133</td>\n",
       "    </tr>\n",
       "    <tr>\n",
       "      <th>1</th>\n",
       "      <td>0.010071</td>\n",
       "      <td>0.005188</td>\n",
       "      <td>4.9097</td>\n",
       "    </tr>\n",
       "    <tr>\n",
       "      <th>2</th>\n",
       "      <td>0.014954</td>\n",
       "      <td>0.004883</td>\n",
       "      <td>4.9158</td>\n",
       "    </tr>\n",
       "    <tr>\n",
       "      <th>3</th>\n",
       "      <td>0.014496</td>\n",
       "      <td>0.005798</td>\n",
       "      <td>4.9158</td>\n",
       "    </tr>\n",
       "    <tr>\n",
       "      <th>4</th>\n",
       "      <td>0.018005</td>\n",
       "      <td>0.003815</td>\n",
       "      <td>4.9243</td>\n",
       "    </tr>\n",
       "  </tbody>\n",
       "</table>\n",
       "</div>"
      ],
      "text/plain": [
       "   Input Side Accelerometer  Output Side Accelerometer  Tachometer Reading\n",
       "0                  0.012054                   0.003204              4.9133\n",
       "1                  0.010071                   0.005188              4.9097\n",
       "2                  0.014954                   0.004883              4.9158\n",
       "3                  0.014496                   0.005798              4.9158\n",
       "4                  0.018005                   0.003815              4.9243"
      ]
     },
     "execution_count": 27,
     "metadata": {},
     "output_type": "execute_result"
    }
   ],
   "source": [
    "Geardata = pd.read_csv('/home/claire/IdeaProjects/project_3/gearbox_readings/archive/Run_1.csv',header=None, names=['Input Side Accelerometer','Output Side Accelerometer','Tachometer Reading']) \n",
    "Geardata.head(n=5)"
   ]
  },
  {
   "cell_type": "code",
   "execution_count": 12,
   "id": "de89baf4",
   "metadata": {
    "scrolled": true
   },
   "outputs": [
    {
     "name": "stdout",
     "output_type": "stream",
     "text": [
      "[[0.55437679 0.49717307 0.99233963]\n",
      " [0.5406537  0.50384344 0.9916953 ]\n",
      " [0.57444585 0.50281718 0.99278708]\n",
      " ...\n",
      " [0.61245943 0.44432563 0.99103308]\n",
      " [0.62090228 0.37403073 0.99257231]\n",
      " [0.63146276 0.40430411 0.99212486]]\n"
     ]
    }
   ],
   "source": [
    "min_max_scaler = preprocessing.MinMaxScaler()\n",
    "Geardata_norm = min_max_scaler.fit_transform(Gear_data)\n",
    "print(Geardata_norm)"
   ]
  },
  {
   "cell_type": "code",
   "execution_count": 13,
   "id": "5ee81c66",
   "metadata": {},
   "outputs": [
    {
     "name": "stdout",
     "output_type": "stream",
     "text": [
      "        Input Side Accelerometer  Output Side Accelerometer  \\\n",
      "0                       0.002453                   0.000652   \n",
      "1                       0.002051                   0.001057   \n",
      "2                       0.003042                   0.000993   \n",
      "3                       0.002949                   0.001180   \n",
      "4                       0.003656                   0.000775   \n",
      "...                          ...                        ...   \n",
      "133323                  0.004166                   0.005720   \n",
      "133324                  0.003728                   0.001429   \n",
      "133325                  0.004168                  -0.002550   \n",
      "133326                  0.004409                  -0.006799   \n",
      "133327                  0.004721                  -0.004970   \n",
      "\n",
      "        Tachometer Reading  \n",
      "0                 0.999997  \n",
      "1                 0.999997  \n",
      "2                 0.999995  \n",
      "3                 0.999995  \n",
      "4                 0.999993  \n",
      "...                    ...  \n",
      "133323            0.999975  \n",
      "133324            0.999992  \n",
      "133325            0.999988  \n",
      "133326            0.999967  \n",
      "133327            0.999977  \n",
      "\n",
      "[133328 rows x 3 columns]\n"
     ]
    }
   ],
   "source": [
    "def normalize(X, axis=-1, p=2):\n",
    "    lp_norm = np.atleast_1d(np.linalg.norm(X, p, axis))\n",
    "    lp_norm[lp_norm == 0] = 1\n",
    "    return X / np.expand_dims(lp_norm, axis)\n",
    "Geardata_normal = normalize(Gear_data)\n",
    "print(Geardata_normal)"
   ]
  },
  {
   "cell_type": "code",
   "execution_count": null,
   "id": "8f737368",
   "metadata": {},
   "outputs": [],
   "source": [
    "from sklearn.cluster import KMeans\n",
    "\n",
    "# choose K\n",
    "SSE = []\n",
    "for k in range(1, 20):\n",
    "    estimator = KMeans(n_clusters=k)\n",
    "    estimator.fit(np.array(Geardata_norm))\n",
    "    SSE.append(estimator.inertia_)\n",
    "X = range(1, 15)\n",
    "plt.xlabel('k')\n",
    "plt.ylabel('SSE')\n",
    "plt.plot(X, SSE, 'o-')\n",
    "plt.show()"
   ]
  },
  {
   "cell_type": "code",
   "execution_count": null,
   "id": "f3a44883",
   "metadata": {},
   "outputs": [],
   "source": [
    "y_pred = KMeans(n_clusters=4, random_state=9).fit_predict(file_data)\n",
    "print(y_pred)"
   ]
  },
  {
   "cell_type": "code",
   "execution_count": null,
   "id": "86f99c94",
   "metadata": {},
   "outputs": [],
   "source": []
  }
 ],
 "metadata": {
  "kernelspec": {
   "display_name": "Python 3 (ipykernel)",
   "language": "python",
   "name": "python3"
  },
  "language_info": {
   "codemirror_mode": {
    "name": "ipython",
    "version": 3
   },
   "file_extension": ".py",
   "mimetype": "text/x-python",
   "name": "python",
   "nbconvert_exporter": "python",
   "pygments_lexer": "ipython3",
   "version": "3.9.7"
  }
 },
 "nbformat": 4,
 "nbformat_minor": 5
}
